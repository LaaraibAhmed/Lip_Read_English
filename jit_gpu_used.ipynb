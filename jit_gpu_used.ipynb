{
 "cells": [
  {
   "cell_type": "code",
   "execution_count": null,
   "metadata": {},
   "outputs": [],
   "source": [
    "from numba import jit, cuda\n",
    "import numpy as np\n",
    "@jit(target_backend='cuda') \n",
    "def func2(a):\n",
    "    for i in range(100000000):\n",
    "        a[i]+= 1\n",
    "if __name__==\"__main__\":\n",
    "    n = 100000000                      \n",
    "    a = np.ones(n, dtype = np.float64)  \n",
    "    func2(a)    "
   ]
  }
 ],
 "metadata": {
  "language_info": {
   "name": "python"
  }
 },
 "nbformat": 4,
 "nbformat_minor": 2
}
